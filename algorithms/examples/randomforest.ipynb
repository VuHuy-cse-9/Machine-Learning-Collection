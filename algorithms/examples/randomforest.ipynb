{
 "cells": [
  {
   "cell_type": "code",
   "execution_count": 1,
   "id": "08afb879",
   "metadata": {},
   "outputs": [],
   "source": [
    "import numpy as np\n",
    "import os\n",
    "\n",
    "#Change to suitable path\n",
    "path = r\"C:\\Users\\thaovv\\Program\\MachineLearning\\algorithms\\decisiontree\" \n",
    "os.chdir(path)"
   ]
  },
  {
   "cell_type": "code",
   "execution_count": 2,
   "id": "4e6f2e3b",
   "metadata": {},
   "outputs": [],
   "source": [
    "from decisiontree import DecisionTree, TreeNode"
   ]
  },
  {
   "cell_type": "code",
   "execution_count": 3,
   "id": "77bc7d89",
   "metadata": {},
   "outputs": [],
   "source": [
    "from scipy.io import arff\n",
    "\n",
    "data = arff.loadarff(r\"C:\\Users\\thaovv\\Program\\MachineLearning\\Dataset\\BMW.arff\")[0] #arff[0] = data, arff[1] = description of data\n",
    "data = np.array(data.tolist(), dtype=np.int8) #Convert complicated datatype to numpy array dtype\n",
    "\n",
    "#Split dataset and labels\n",
    "dataset = data[:, 0:7]\n",
    "labels = data[:, 7] "
   ]
  },
  {
   "cell_type": "code",
   "execution_count": 4,
   "id": "76df1328",
   "metadata": {},
   "outputs": [],
   "source": [
    "from sklearn.model_selection import train_test_split\n",
    "\n",
    "x_train, x_test, y_train, y_test= train_test_split(dataset, labels, test_size=0.3, random_state=42)"
   ]
  },
  {
   "cell_type": "code",
   "execution_count": 5,
   "id": "fc32b415",
   "metadata": {},
   "outputs": [],
   "source": [
    "class RandomForest:\n",
    "    def __init__(self, n_trees=20, min_samples_split=3, max_depth=20, min_gain=1e-4, n_features = 4):\n",
    "        self.n_trees = n_trees\n",
    "        self.min_samples_split = min_samples_split\n",
    "        self.max_depth = max_depth\n",
    "        self.min_gain = 1e-4\n",
    "        self.n_features = n_features\n",
    "        \n",
    "    def fit(self, X, y):\n",
    "        self.trees = []\n",
    "        for _ in np.arange(self.n_trees):\n",
    "            treei = DecisionTree(self.max_depth, self.min_gain, self.min_samples_split, n_features=self.n_features)\n",
    "            Xi, yi = self.bootstrap_sample(X, y)\n",
    "            treei.fit(Xi, yi)\n",
    "            self.trees.append(treei)\n",
    "            \n",
    "    def predict(self, X):\n",
    "        #Get prediction for each tree\n",
    "        tree_preds = np.array([tree.predict(X) for tree in self.trees]).T\n",
    "        #Majority votes\n",
    "        label_type = np.unique(tree_preds)\n",
    "        label_predicts = np.zeros((X.shape[0], )) \n",
    "        label_counts = np.zeros((X.shape[0], ))\n",
    "        for label in label_type:\n",
    "            label_count_i = np.sum(tree_preds == label, axis=1)\n",
    "            label_predicts = np.where(label_counts < label_count_i, label, label_predicts)\n",
    "        return label_predicts   \n",
    "    \n",
    "    def bootstrap_sample(self, X, y):\n",
    "        n_samples = X.shape[0]\n",
    "        idxs = np.random.choice(n_samples, size=n_samples, replace=True) #Get random number from 0 -> n_sample - 1, with redundance\n",
    "        return X[idxs], y[idxs]"
   ]
  },
  {
   "cell_type": "code",
   "execution_count": 6,
   "id": "3b1ca9e1",
   "metadata": {},
   "outputs": [
    {
     "name": "stdout",
     "output_type": "stream",
     "text": [
      "max_depth: 1\n",
      "Performance Decision Tree   : 18\n",
      "Design time Decision Tree   : 0.011993408203125\n",
      "Inference time Decision Tree: 0.001995563507080078\n",
      "max_depth: 2\n",
      "Performance Decision Tree   : 20\n",
      "Design time Decision Tree   : 0.01998114585876465\n",
      "Inference time Decision Tree: 0.0019979476928710938\n",
      "max_depth: 3\n",
      "Performance Decision Tree   : 21\n",
      "Design time Decision Tree   : 0.02698373794555664\n",
      "Inference time Decision Tree: 0.0010161399841308594\n",
      "max_depth: 4\n",
      "Performance Decision Tree   : 19\n",
      "Design time Decision Tree   : 0.021987438201904297\n",
      "Inference time Decision Tree: 0.0009984970092773438\n",
      "max_depth: 5\n",
      "Performance Decision Tree   : 20\n",
      "Design time Decision Tree   : 0.029979705810546875\n",
      "Inference time Decision Tree: 0.0\n",
      "max_depth: 6\n",
      "Performance Decision Tree   : 22\n",
      "Design time Decision Tree   : 0.037978410720825195\n",
      "Inference time Decision Tree: 0.00099945068359375\n",
      "max_depth: 7\n",
      "Performance Decision Tree   : 25\n",
      "Design time Decision Tree   : 0.04054069519042969\n",
      "Inference time Decision Tree: 0.0009989738464355469\n"
     ]
    }
   ],
   "source": [
    "import time\n",
    "\n",
    "for n_features in np.arange(1, x_train.shape[1] + 1):\n",
    "    start = time.time()\n",
    "    my_model = RandomForest(n_trees=5, max_depth=14, n_features=n_features)\n",
    "    my_model.fit(x_train, y_train)\n",
    "    end = time.time()\n",
    "    design_time = end - start\n",
    "\n",
    "    start = time.time()\n",
    "    my_predict = my_model.predict(x_test)\n",
    "    end = time.time()\n",
    "    inference_time = end - start\n",
    "\n",
    "    print(\"max_depth: {}\".format(n_features))\n",
    "    print(\"Performance Decision Tree   : {}\".format(np.sum(np.equal(my_predict, y_test.reshape(y_test.shape[0],)))))\n",
    "    print(\"Design time Decision Tree   : {}\".format(design_time))\n",
    "    print(\"Inference time Decision Tree: {}\".format(inference_time))"
   ]
  }
 ],
 "metadata": {
  "kernelspec": {
   "display_name": "Python 3 (ipykernel)",
   "language": "python",
   "name": "python3"
  },
  "language_info": {
   "codemirror_mode": {
    "name": "ipython",
    "version": 3
   },
   "file_extension": ".py",
   "mimetype": "text/x-python",
   "name": "python",
   "nbconvert_exporter": "python",
   "pygments_lexer": "ipython3",
   "version": "3.10.0"
  }
 },
 "nbformat": 4,
 "nbformat_minor": 5
}
