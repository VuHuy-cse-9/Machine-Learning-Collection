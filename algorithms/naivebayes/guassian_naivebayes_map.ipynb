{
 "cells": [
  {
   "cell_type": "code",
   "execution_count": null,
   "metadata": {
    "id": "J2-j9gWISWk-"
   },
   "outputs": [],
   "source": [
    "import numpy as np\n",
    "\n",
    "#Bayesian classifier:\n",
    "class GaussianNaiveBayes:\n",
    "  def __init__(self, dataset, labels, vars, prior_var=[1.0, 1.0], prior_mean=[0.0, 0.0]):\n",
    "    \"\"\"\n",
    "    labels : 1d array, incude index of classes, start at 0\n",
    "    dataset: (number_sample, num_features)\n",
    "    default variance is the variance of the current dataset.\n",
    "    \"\"\"\n",
    "    self.N = dataset.shape[0]\n",
    "    self.prior_var = prior_var\n",
    "    self.prior_mean = prior_mean\n",
    "    self.num_classes = int(np.amax(labels) + 1)\n",
    "    self.prior_value = self.get_prior_value(labels)\n",
    "    self.vars = vars\n",
    "    self.means = self.get_likelihood_value(dataset, labels)\n",
    "  def get_prior_value(self, labels):\n",
    "    \"\"\"\n",
    "    return all prior probability of all classes\n",
    "    \"\"\"\n",
    "    result = []\n",
    "    for c_index in np.arange(self.num_classes):\n",
    "      result.append(np.sum(labels == c_index, dtype=np.float32) / self.N); \n",
    "    return np.array(result)\n",
    "\n",
    "  def predict(self, x):\n",
    "    \"\"\"\n",
    "    Predict a class for new sample\n",
    "    x need to be normalize.\n",
    "    Return: Probability log \n",
    "    \"\"\"    \n",
    "    posterior_probability = []\n",
    "    for i in np.arange(self.num_classes):\n",
    "      posterior_probability.append(\n",
    "          np.log(self.prior_value[i]) + \n",
    "          np.sum(\n",
    "            - 0.5 * (x - self.means[i, :]) ** 2 / self.vars[i] \\\n",
    "            - np.log(np.sqrt(2 * np.math.pi) * self.vars[i]), \n",
    "            axis=1)) \n",
    "    return np.argmax(np.array(posterior_probability), axis=0)\n",
    "\n",
    "  def predict_proba(self, x):\n",
    "    \"\"\"\n",
    "    Predict a class for new sample\n",
    "    x need to be normalize.\n",
    "    Return: Probability log \n",
    "    \"\"\"    \n",
    "    posterior_probability_per_class = []\n",
    "    for i in np.arange(self.num_classes):\n",
    "      posterior_probability_per_class.append(\n",
    "          self.prior_value[i] * np.prod((np.exp(- 0.5 * (x - self.means[i, :]) ** 2 / self.vars[i]) / (np.sqrt(2 * np.math.pi * self.vars[i]))), axis=1)\n",
    "      )\n",
    "    posterior_probability_per_class = np.array(posterior_probability_per_class)\n",
    "    return posterior_probability_per_class / np.sum(posterior_probability_per_class, axis=0)\n",
    "  \n",
    "  def evaluate(self, x, y):\n",
    "    \"\"\"\n",
    "    return: miss_classify:  sum(predicted_class == y)\n",
    "    \"\"\"\n",
    "    return np.sum(np.equal(self.predict(x)  , y), ) \n",
    "\n",
    "  def get_likelihood_value(self, dataset, labels):\n",
    "    means = []\n",
    "    for c_index in np.arange(self.num_classes):\n",
    "      #Count N_c:\n",
    "      index_N_c = np.reshape(np.argwhere(labels == c_index), -1)\n",
    "      N_c = len(index_N_c)\n",
    "      #Mean:\n",
    "      mean = np.sum(dataset[index_N_c], axis=0, dtype=np.float32) / N_c\n",
    "      mean_map = (N_c * self.prior_var[c_index]) / (N_c*self.prior_var[c_index] + self.vars[c_index])  * mean  + self.vars[c_index] / \\\n",
    "                    (N_c*self.prior_var[c_index] + self.vars[c_index]) * self.prior_mean[c_index]\n",
    "      means.append(mean_map)\n",
    "    return np.array(means)\n",
    "\n",
    "  def get_mean_map(self):\n",
    "    return self.means"
   ]
  },
  {
   "cell_type": "code",
   "execution_count": null,
   "metadata": {
    "id": "Y-ju146pPM6E"
   },
   "outputs": [],
   "source": []
  }
 ],
 "metadata": {
  "colab": {
   "collapsed_sections": [],
   "name": "Naive Bayesian Classifier - Parkinson Disease - MAP.ipynb",
   "provenance": []
  },
  "kernelspec": {
   "display_name": "Python 3 (ipykernel)",
   "language": "python",
   "name": "python3"
  },
  "language_info": {
   "codemirror_mode": {
    "name": "ipython",
    "version": 3
   },
   "file_extension": ".py",
   "mimetype": "text/x-python",
   "name": "python",
   "nbconvert_exporter": "python",
   "pygments_lexer": "ipython3",
   "version": "3.10.0"
  }
 },
 "nbformat": 4,
 "nbformat_minor": 1
}
