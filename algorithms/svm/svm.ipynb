{
 "cells": [
  {
   "cell_type": "markdown",
   "metadata": {
    "id": "8KirTjsJm--k"
   },
   "source": [
    "CVOPXT FORM:\n",
    "$$min \\frac{1}{2}λ^TPλ - q^Tλ$$\n",
    "$$s.t \\space Gx \\le h \\\\ Ax=b$$ \n",
    "Same as:\n",
    "- $α_i \\ge 0$\n",
    "- $\\sum\\alpha_iy_i = 0$\n",
    "- $P = V^TV$\n",
    "- $V = [y_1x_1, y_2x_2, ..., y_nx_n]$"
   ]
  },
  {
   "cell_type": "code",
   "execution_count": 1,
   "metadata": {
    "id": "nz9E7YCPaMcr",
    "scrolled": false
   },
   "outputs": [
    {
     "ename": "ModuleNotFoundError",
     "evalue": "No module named 'cvxopt'",
     "output_type": "error",
     "traceback": [
      "\u001b[1;31m---------------------------------------------------------------------------\u001b[0m",
      "\u001b[1;31mModuleNotFoundError\u001b[0m                       Traceback (most recent call last)",
      "\u001b[1;32m~\\AppData\\Local\\Temp/ipykernel_8116/3132573104.py\u001b[0m in \u001b[0;36m<module>\u001b[1;34m\u001b[0m\n\u001b[1;32m----> 1\u001b[1;33m \u001b[1;32mfrom\u001b[0m \u001b[0mcvxopt\u001b[0m \u001b[1;32mimport\u001b[0m \u001b[0mmatrix\u001b[0m\u001b[1;33m,\u001b[0m \u001b[0msolvers\u001b[0m\u001b[1;33m\u001b[0m\u001b[1;33m\u001b[0m\u001b[0m\n\u001b[0m\u001b[0;32m      2\u001b[0m \u001b[1;32mimport\u001b[0m \u001b[0mnumpy\u001b[0m \u001b[1;32mas\u001b[0m \u001b[0mnp\u001b[0m\u001b[1;33m\u001b[0m\u001b[1;33m\u001b[0m\u001b[0m\n\u001b[0;32m      3\u001b[0m \u001b[1;33m\u001b[0m\u001b[0m\n\u001b[0;32m      4\u001b[0m \u001b[1;32mdef\u001b[0m \u001b[0mlinear\u001b[0m\u001b[1;33m(\u001b[0m\u001b[0mx\u001b[0m\u001b[1;33m,\u001b[0m \u001b[0mz\u001b[0m\u001b[1;33m)\u001b[0m\u001b[1;33m:\u001b[0m\u001b[1;33m\u001b[0m\u001b[1;33m\u001b[0m\u001b[0m\n\u001b[0;32m      5\u001b[0m   \u001b[1;32mreturn\u001b[0m \u001b[0mnp\u001b[0m\u001b[1;33m.\u001b[0m\u001b[0mdot\u001b[0m\u001b[1;33m(\u001b[0m\u001b[0mz\u001b[0m\u001b[1;33m,\u001b[0m \u001b[0mx\u001b[0m\u001b[1;33m.\u001b[0m\u001b[0mT\u001b[0m\u001b[1;33m)\u001b[0m\u001b[1;33m\u001b[0m\u001b[1;33m\u001b[0m\u001b[0m\n",
      "\u001b[1;31mModuleNotFoundError\u001b[0m: No module named 'cvxopt'"
     ]
    }
   ],
   "source": [
    "from cvxopt import matrix, solvers\n",
    "import numpy as np\n",
    "\n",
    "def linear(x, z):\n",
    "  return np.dot(z, x.T)\n",
    "\n",
    "def gaussian(x, z, sigma=0.1):\n",
    "  return np.exp(-np.linalg.norm(x-z, axis=1)**2 / (2*sigma**2)) #not this\n",
    "\n",
    "def polynomial(x, z, p=6):\n",
    "    return (1 + np.dot(x, z.T)) ** p\n",
    "\n",
    "class SVM():\n",
    "  def __init__(self, kernel=linear, C=1e5):\n",
    "    self.kernel = kernel\n",
    "    self.C = C\n",
    "  \n",
    "  def fit(self, X, y):\n",
    "    #Calculate kernel:\n",
    "    m = X.shape[0]\n",
    "    K = np.zeros((m, m))\n",
    "    for i in np.arange(m):\n",
    "        K[:, i] = self.kernel(X[i, :], X).flatten()\n",
    "    #Calculate alpha via CVXOPT:\n",
    "    P = matrix(np.outer(y, y) * K)\n",
    "    q = matrix(-np.ones((m ,1)))\n",
    "    G = matrix(np.vstack((-1 * np.eye(m), np.eye(m))))\n",
    "    h = matrix(np.hstack((np.zeros((m)), self.C * np.ones(m))))\n",
    "    A = matrix(y, (1, m), 'd')\n",
    "    b = matrix(np.zeros((1)))\n",
    "\n",
    "    solvers.options[\"show_progress\"] = False\n",
    "    sol = solvers.qp(P, q, G, h, A, b)\n",
    "    alphas = np.array(sol['x'])\n",
    "    sv = np.argwhere((alphas > 1e-3) * (alphas < self.C))[:, 0]\n",
    "    self.alphas = alphas[sv]\n",
    "    self.X = X[sv]\n",
    "    self.y = y[sv]\n",
    "    self.K = K[:, sv][sv, :]\n",
    "    self.w = np.sum(self.X * self.y * self.alphas, axis=0)\n",
    "    self.b = np.mean(self.y - np.sum(self.alphas * self.y * self.K, axis=1)[:, None])\n",
    "\n",
    "  def predict(self, X):\n",
    "    \"\"\"\n",
    "    Binary classification for class X\n",
    "    \"\"\"\n",
    "    #index_spv = np.where(np.logical_and(alphas > 1e-6, alphas < self.C))[0]\n",
    "    y_predict = np.zeros((X.shape[0]))\n",
    "    #print(\"alphas: \", self.alphas)\n",
    "    #print(\"y: \", self.y)\n",
    "    for i in np.arange(X.shape[0]):\n",
    "      y_predict[i] = np.sum(self.alphas * self.y * self.kernel(X[i], self.X))\n",
    "    return np.sign(y_predict + self.b)    \n",
    "    \n",
    "  \n",
    "  def get_index_support_vector(self):\n",
    "    return self.index_spv"
   ]
  },
  {
   "cell_type": "code",
   "execution_count": null,
   "metadata": {},
   "outputs": [],
   "source": []
  }
 ],
 "metadata": {
  "colab": {
   "collapsed_sections": [],
   "name": "Support Vector Machine.ipynb",
   "provenance": []
  },
  "kernelspec": {
   "display_name": "Python 3 (ipykernel)",
   "language": "python",
   "name": "python3"
  },
  "language_info": {
   "codemirror_mode": {
    "name": "ipython",
    "version": 3
   },
   "file_extension": ".py",
   "mimetype": "text/x-python",
   "name": "python",
   "nbconvert_exporter": "python",
   "pygments_lexer": "ipython3",
   "version": "3.10.0"
  }
 },
 "nbformat": 4,
 "nbformat_minor": 1
}
